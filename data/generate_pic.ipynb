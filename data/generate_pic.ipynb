{
 "cells": [
  {
   "cell_type": "code",
   "execution_count": 1,
   "metadata": {},
   "outputs": [],
   "source": [
    "import os\n",
    "import pickle\n",
    "from Evaluator import *\n",
    "E = Evaluator(img_size=(224, 224), nb_labelled=2000, nb_unlabelled=10000, nb_test = 10000)"
   ]
  },
  {
   "cell_type": "code",
   "execution_count": 2,
   "metadata": {},
   "outputs": [],
   "source": [
    "for task in ['BP_3']:\n",
    "    path = \"./\"+task+\"/\"\n",
    "    if not os.path.exists(path):\n",
    "        os.mkdir(path)\n",
    "    X_train_unlabelled, X_train_labelled, y_train_labelled = E.get_data(task, E.nb_unlabelled, E.nb_labelled)\n",
    "    _ = pickle.dump(X_train_unlabelled, open(path+\"X_train_unlabelled_224.pkl\", \"wb\"))\n",
    "    _ = pickle.dump(X_train_labelled, open(path+\"X_train_labelled_224.pkl\", \"wb\"))\n",
    "    _ = pickle.dump(y_train_labelled, open(path+\"y_train_labelled_224.pkl\", \"wb\"))\n",
    "    X_val_unlabelled, X_test_labelled, y_test_labelled = E.get_data(task, 2000, E.nb_test)\n",
    "    _ = pickle.dump(X_val_unlabelled, open(path+\"X_val_unlabelled_224.pkl\", \"wb\"))\n",
    "    _ = pickle.dump(X_test_labelled, open(path+\"X_test_labelled_224.pkl\", \"wb\"))\n",
    "    _ = pickle.dump(y_test_labelled, open(path+\"y_test_labelled_224.pkl\", \"wb\"))\n",
    "    "
   ]
  },
  {
   "cell_type": "code",
   "execution_count": 3,
   "metadata": {},
   "outputs": [],
   "source": [
    "X_train_labelled=X_train_labelled.astype('float32')"
   ]
  },
  {
   "cell_type": "code",
   "execution_count": 4,
   "metadata": {},
   "outputs": [],
   "source": [
    "X_test_labelled=X_test_labelled.astype('float32')"
   ]
  },
  {
   "cell_type": "code",
   "execution_count": 6,
   "metadata": {},
   "outputs": [
    {
     "data": {
      "image/png": "[encoded data removed]",
      "text/plain": [
       "<matplotlib.figure.Figure at 0x7fc143e3d208>"
      ]
     },
     "metadata": {},
     "output_type": "display_data"
    }
   ],
   "source": [
    "import matplotlib.pyplot as plt\n",
    "%matplotlib inline\n",
    "import numpy as np\n",
    "#部分显示图片\n",
    "n = 8 # how many digits we will display\n",
    "plt.figure(figsize=(15, 15))\n",
    "for i in range(n):\n",
    "    ax=plt.subplot(1, 9, i+1)\n",
    "    plt.imshow(X_test_labelled[i].reshape(105,105))\n",
    "    plt.gray()"
   ]
  },
  {
   "cell_type": "code",
   "execution_count": 7,
   "metadata": {},
   "outputs": [
    {
     "data": {
      "image/png": "[encoded data removed]",
      "text/plain": [
       "<matplotlib.figure.Figure at 0x7fc143d57748>"
      ]
     },
     "metadata": {},
     "output_type": "display_data"
    }
   ],
   "source": [
    "import matplotlib.pyplot as plt\n",
    "%matplotlib inline\n",
    "import numpy as np\n",
    "#部分显示图片\n",
    "n = 8 # how many digits we will display\n",
    "plt.figure(figsize=(15, 15))\n",
    "for i in range(n):\n",
    "    ax=plt.subplot(1, 9, i+1)\n",
    "    plt.imshow(X_train_labelled[i].reshape(105,105))\n",
    "    plt.gray()"
   ]
  },
  {
   "cell_type": "code",
   "execution_count": 8,
   "metadata": {},
   "outputs": [
    {
     "data": {
      "text/plain": [
       "(2000, 105, 105, 1)"
      ]
     },
     "execution_count": 8,
     "metadata": {},
     "output_type": "execute_result"
    }
   ],
   "source": [
    "X_test_labelled.shape"
   ]
  },
  {
   "cell_type": "code",
   "execution_count": 8,
   "metadata": {},
   "outputs": [],
   "source": [
    "#import cv2\n",
    "#X_train = [cv2.cvtColor(cv2.resize(i, (224, 224)), cv2.COLOR_GRAY2RGB) for i in X_train_labelled]\n",
    "#X_train = np.concatenate([arr[np.newaxis] for arr in X_train]).astype('float32')\n",
    "\n",
    "\n"
   ]
  },
  {
   "cell_type": "code",
   "execution_count": 9,
   "metadata": {},
   "outputs": [
    {
     "data": {
      "text/plain": [
       "(2000, 105, 105, 1)"
      ]
     },
     "execution_count": 9,
     "metadata": {},
     "output_type": "execute_result"
    }
   ],
   "source": [
    "X_train_labelled.shape"
   ]
  },
  {
   "cell_type": "code",
   "execution_count": 10,
   "metadata": {},
   "outputs": [
    {
     "data": {
      "text/plain": [
       "array([0, 1, 0, 1, 0, 1, 0, 1, 0, 1])"
      ]
     },
     "execution_count": 10,
     "metadata": {},
     "output_type": "execute_result"
    }
   ],
   "source": [
    "y_train_labelled[0:10]"
   ]
  },
  {
   "cell_type": "code",
   "execution_count": 12,
   "metadata": {},
   "outputs": [
    {
     "name": "stderr",
     "output_type": "stream",
     "text": [
      "/usr/local/lib/python3.5/dist-packages/ipykernel_launcher.py:6: DeprecationWarning: `imsave` is deprecated!\n",
      "`imsave` is deprecated in SciPy 1.0.0, and will be removed in 1.2.0.\n",
      "Use ``imageio.imwrite`` instead.\n",
      "  \n",
      "/usr/local/lib/python3.5/dist-packages/ipykernel_launcher.py:4: DeprecationWarning: `imsave` is deprecated!\n",
      "`imsave` is deprecated in SciPy 1.0.0, and will be removed in 1.2.0.\n",
      "Use ``imageio.imwrite`` instead.\n",
      "  after removing the cwd from sys.path.\n"
     ]
    }
   ],
   "source": [
    "from scipy import misc\n",
    "for i in range(0,1000):\n",
    "    if i%2==1:\n",
    "        misc.imsave('./Bongard/BP_61_more/evaluation/left/%d.png'%(i), X_test_labelled[i].reshape(105,105))\n",
    "    else:\n",
    "        misc.imsave('./Bongard/BP_61_more/evaluation/right/%d.png'%(i), X_test_labelled[i].reshape(105,105))"
   ]
  },
  {
   "cell_type": "code",
   "execution_count": null,
   "metadata": {},
   "outputs": [],
   "source": []
  }
 ],
 "metadata": {
  "kernelspec": {
   "display_name": "Python 3",
   "language": "python",
   "name": "python3"
  },
  "language_info": {
   "codemirror_mode": {
    "name": "ipython",
    "version": 3
   },
   "file_extension": ".py",
   "mimetype": "text/x-python",
   "name": "python",
   "nbconvert_exporter": "python",
   "pygments_lexer": "ipython3",
   "version": "3.5.6"
  }
 },
 "nbformat": 4,
 "nbformat_minor": 2
}
