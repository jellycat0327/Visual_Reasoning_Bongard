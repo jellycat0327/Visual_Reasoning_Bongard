{
 "cells": [
  {
   "cell_type": "code",
   "execution_count": 1,
   "metadata": {},
   "outputs": [
    {
     "name": "stderr",
     "output_type": "stream",
     "text": [
      "/usr/local/lib/python3.5/dist-packages/h5py/__init__.py:36: FutureWarning: Conversion of the second argument of issubdtype from `float` to `np.floating` is deprecated. In future, it will be treated as `np.float64 == np.dtype(float).type`.\n",
      "  from ._conv import register_converters as _register_converters\n",
      "Using TensorFlow backend.\n"
     ]
    }
   ],
   "source": [
    "import os\n",
    "import pickle\n",
    "import sys\n",
    "\n",
    "import keras\n",
    "from keras.applications.resnet50 import ResNet50\n",
    "from keras.layers import Input, Dense, Conv2D, MaxPooling2D, UpSampling2D, Flatten, Reshape,GlobalAveragePooling2D\n",
    "from keras.models import Model, load_model\n",
    "from keras import backend as K\n",
    "from keras import losses\n",
    "from keras.layers.normalization import BatchNormalization\n",
    "\n",
    "import matplotlib.pyplot as plt\n",
    "%matplotlib inline\n",
    "import numpy as np"
   ]
  },
  {
   "cell_type": "code",
   "execution_count": 2,
   "metadata": {},
   "outputs": [],
   "source": [
    "X_train_labelled = pickle.load(open(\"./\"+'BP_61'+\"/X_train_labelled.pkl\", \"rb\"))\n",
    "y_train_labelled = pickle.load(open(\"./\"+'BP_61'+\"/y_train_labelled.pkl\", \"rb\"))\n",
    "\n",
    "X_test_labelled = pickle.load(open(\"./\"+'BP_61'+\"/X_test_labelled.pkl\", \"rb\"))\n",
    "y_test_labelled = pickle.load(open(\"./\"+'BP_61'+\"/y_test_labelled.pkl\", \"rb\"))"
   ]
  },
  {
   "cell_type": "code",
   "execution_count": 3,
   "metadata": {},
   "outputs": [],
   "source": [
    "X_train_labelled=X_train_labelled.astype('float32')\n",
    "X_test_labelled=X_test_labelled.astype('float32')"
   ]
  },
  {
   "cell_type": "code",
   "execution_count": 4,
   "metadata": {},
   "outputs": [
    {
     "data": {
      "image/png": "[encoded data removed]",
      "text/plain": [
       "<matplotlib.figure.Figure at 0x7f1e504b9198>"
      ]
     },
     "metadata": {},
     "output_type": "display_data"
    }
   ],
   "source": [
    "#部分显示图片\n",
    "n = 10 # how many digits we will display\n",
    "plt.figure(figsize=(15, 15))\n",
    "for i in range(n):\n",
    "    # display original\n",
    "    #ax = plt.subplot(2, n, i + 1)\n",
    "    ax=plt.subplot(1, 10, i+1)\n",
    "    plt.imshow(X_train_labelled[i].reshape(48,48))\n",
    "    plt.gray()\n",
    "    ax.get_xaxis().set_visible(False)\n",
    "    ax.get_yaxis().set_visible(False)"
   ]
  },
  {
   "cell_type": "code",
   "execution_count": 5,
   "metadata": {},
   "outputs": [],
   "source": [
    "import cv2\n",
    "X_train = [cv2.cvtColor(cv2.resize(i, (48, 48)), cv2.COLOR_GRAY2RGB) for i in X_train_labelled]\n",
    "X_test=[cv2.cvtColor(cv2.resize(i, (48,48)), cv2.COLOR_GRAY2RGB)\n",
    "           for i in X_test_labelled]"
   ]
  },
  {
   "cell_type": "code",
   "execution_count": 6,
   "metadata": {},
   "outputs": [],
   "source": [
    "X_train = np.concatenate([arr[np.newaxis] for arr in X_train]).astype('float32')\n",
    "X_test = np.concatenate([arr[np.newaxis] for arr in X_test]).astype('float32')"
   ]
  },
  {
   "cell_type": "code",
   "execution_count": 7,
   "metadata": {},
   "outputs": [
    {
     "data": {
      "image/png": "[encoded data removed]",
      "text/plain": [
       "<matplotlib.figure.Figure at 0x7f1e46620ba8>"
      ]
     },
     "metadata": {},
     "output_type": "display_data"
    }
   ],
   "source": [
    "#部分显示图片\n",
    "n = 10 # how many digits we will display\n",
    "plt.figure(figsize=(15, 15))\n",
    "for i in range(n):\n",
    "    # display original\n",
    "    #ax = plt.subplot(2, n, i + 1)\n",
    "    ax=plt.subplot(1, 10, i+1)\n",
    "    plt.imshow(X_train[i])\n",
    "    plt.gray()\n",
    "    ax.get_xaxis().set_visible(False)\n",
    "    ax.get_yaxis().set_visible(False)"
   ]
  },
  {
   "cell_type": "code",
   "execution_count": 8,
   "metadata": {},
   "outputs": [
    {
     "data": {
      "image/png": "[encoded data removed]",
      "text/plain": [
       "<matplotlib.figure.Figure at 0x7f1e4d1e7d68>"
      ]
     },
     "metadata": {},
     "output_type": "display_data"
    }
   ],
   "source": [
    "#部分显示图片\n",
    "n = 10 # how many digits we will display\n",
    "plt.figure(figsize=(15, 15))\n",
    "for i in range(n):\n",
    "    # display original\n",
    "    #ax = plt.subplot(2, n, i + 1)\n",
    "    ax=plt.subplot(1, 10, i+1)\n",
    "    plt.imshow(X_test[i])\n",
    "    plt.gray()\n",
    "    ax.get_xaxis().set_visible(False)\n",
    "    ax.get_yaxis().set_visible(False)"
   ]
  },
  {
   "cell_type": "code",
   "execution_count": 9,
   "metadata": {},
   "outputs": [],
   "source": [
    "from keras.utils import to_categorical\n",
    "y_train = to_categorical(y_train_labelled)\n",
    "y_test = to_categorical(y_test_labelled)"
   ]
  },
  {
   "cell_type": "code",
   "execution_count": null,
   "metadata": {},
   "outputs": [],
   "source": [
    "resnet50_model = ResNet50(weights = 'imagenet', include_top = False)\n",
    "x = resnet50_model.output\n",
    "x = GlobalAveragePooling2D()(x)\n",
    "x = Dense(128, activation='relu')(x)\n",
    "x = Dense(128, activation='relu')(x)\n",
    "predictions = Dense(2, activation = 'softmax')(x)\n",
    "model = Model(input = resnet50_model.input, output = predictions)"
   ]
  },
  {
   "cell_type": "code",
   "execution_count": null,
   "metadata": {},
   "outputs": [],
   "source": [
    "model.summary( )"
   ]
  },
  {
   "cell_type": "code",
   "execution_count": null,
   "metadata": {},
   "outputs": [],
   "source": [
    "# freeze all layers of the pre-trained model\n",
    "for layer in resnet50_model.layers:\n",
    "    layer.trainable = False"
   ]
  },
  {
   "cell_type": "code",
   "execution_count": null,
   "metadata": {},
   "outputs": [],
   "source": [
    "model.summary()"
   ]
  },
  {
   "cell_type": "code",
   "execution_count": null,
   "metadata": {},
   "outputs": [],
   "source": [
    "# compile the new model using a RMSProp optimizer\n",
    "model.compile(optimizer = 'rmsprop',\n",
    "    loss = 'categorical_crossentropy',\n",
    "    metrics = ['accuracy'])"
   ]
  },
  {
   "cell_type": "code",
   "execution_count": null,
   "metadata": {},
   "outputs": [],
   "source": [
    "# fit the model, log the results and the training time\n",
    "transfer_learning_history = model.fit(\n",
    "    X_train[0:12],y_train[0:12],\n",
    "    epochs =3,\n",
    "    batch_size=12)"
   ]
  },
  {
   "cell_type": "code",
   "execution_count": null,
   "metadata": {},
   "outputs": [],
   "source": []
  }
 ],
 "metadata": {
  "kernelspec": {
   "display_name": "Python 3",
   "language": "python",
   "name": "python3"
  },
  "language_info": {
   "codemirror_mode": {
    "name": "ipython",
    "version": 3
   },
   "file_extension": ".py",
   "mimetype": "text/x-python",
   "name": "python",
   "nbconvert_exporter": "python",
   "pygments_lexer": "ipython3",
   "version": "3.5.6"
  }
 },
 "nbformat": 4,
 "nbformat_minor": 2
}
