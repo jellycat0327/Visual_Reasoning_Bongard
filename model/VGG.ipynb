{
 "cells": [
  {
   "cell_type": "code",
   "execution_count": 2,
   "metadata": {},
   "outputs": [
    {
     "name": "stderr",
     "output_type": "stream",
     "text": [
      "/usr/local/lib/python3.5/dist-packages/h5py/__init__.py:36: FutureWarning: Conversion of the second argument of issubdtype from `float` to `np.floating` is deprecated. In future, it will be treated as `np.float64 == np.dtype(float).type`.\n",
      "  from ._conv import register_converters as _register_converters\n",
      "Using TensorFlow backend.\n"
     ]
    }
   ],
   "source": [
    "import os\n",
    "import pickle\n",
    "\n",
    "import keras\n",
    "from keras.applications.vgg16 import VGG16\n",
    "from keras.layers import Input, Dense, Conv2D, MaxPooling2D, UpSampling2D, Flatten, Reshape,GlobalAveragePooling2D\n",
    "from keras.models import Model, load_model\n",
    "from keras import backend as K\n",
    "from keras import losses\n",
    "from keras.layers.normalization import BatchNormalization\n",
    "\n",
    "import matplotlib.pyplot as plt\n",
    "%matplotlib inline\n",
    "import numpy as np"
   ]
  },
  {
   "cell_type": "code",
   "execution_count": 3,
   "metadata": {},
   "outputs": [],
   "source": [
    "X_train_labelled = pickle.load(open(\"./\"+'BP_61'+\"/X_train_labelled.pkl\", \"rb\"))\n",
    "y_train_labelled = pickle.load(open(\"./\"+'BP_61'+\"/y_train_labelled.pkl\", \"rb\"))\n",
    "\n",
    "X_test_labelled = pickle.load(open(\"./\"+'BP_61'+\"/X_test_labelled.pkl\", \"rb\"))\n",
    "y_test_labelled = pickle.load(open(\"./\"+'BP_61'+\"/y_test_labelled.pkl\", \"rb\"))"
   ]
  },
  {
   "cell_type": "code",
   "execution_count": 4,
   "metadata": {},
   "outputs": [],
   "source": [
    "X_train_labelled=X_train_labelled.astype('float32')\n",
    "X_test_labelled=X_test_labelled.astype('float32')"
   ]
  },
  {
   "cell_type": "code",
   "execution_count": 5,
   "metadata": {},
   "outputs": [
    {
     "data": {
      "text/plain": [
       "(1000, 48, 48, 1)"
      ]
     },
     "execution_count": 5,
     "metadata": {},
     "output_type": "execute_result"
    }
   ],
   "source": [
    "X_train_labelled.shape"
   ]
  },
  {
   "cell_type": "code",
   "execution_count": 6,
   "metadata": {},
   "outputs": [
    {
     "data": {
      "image/png": "[encoded data removed]",
      "text/plain": [
       "<matplotlib.figure.Figure at 0x7ff226ede748>"
      ]
     },
     "metadata": {},
     "output_type": "display_data"
    }
   ],
   "source": [
    "#部分显示图片\n",
    "n = 10 # how many digits we will display\n",
    "plt.figure(figsize=(15, 15))\n",
    "for i in range(n):\n",
    "    # display original\n",
    "    #ax = plt.subplot(2, n, i + 1)\n",
    "    ax=plt.subplot(1, 10, i+1)\n",
    "    plt.imshow(X_train_labelled[i].reshape(48,48))\n",
    "    plt.gray()\n",
    "    ax.get_xaxis().set_visible(False)\n",
    "    ax.get_yaxis().set_visible(False)"
   ]
  },
  {
   "cell_type": "code",
   "execution_count": 7,
   "metadata": {},
   "outputs": [],
   "source": [
    "import cv2\n",
    "X_train = [cv2.cvtColor(cv2.resize(i, (48, 48)), cv2.COLOR_GRAY2RGB) for i in X_train_labelled]\n",
    "X_test=[cv2.cvtColor(cv2.resize(i, (48, 48)), cv2.COLOR_GRAY2RGB)\n",
    "           for i in X_test_labelled]"
   ]
  },
  {
   "cell_type": "code",
   "execution_count": 6,
   "metadata": {},
   "outputs": [],
   "source": [
    "import cv2\n",
    "X_train_labelled = [cv2.cvtColor(cv2.resize(X_train_labelled[10], (48, 48)), cv2.COLOR_GRAY2RGB)]"
   ]
  },
  {
   "cell_type": "code",
   "execution_count": 7,
   "metadata": {},
   "outputs": [
    {
     "data": {
      "text/plain": [
       "(48, 48, 3)"
      ]
     },
     "execution_count": 7,
     "metadata": {},
     "output_type": "execute_result"
    }
   ],
   "source": [
    "X_train_labelled[0].shape"
   ]
  },
  {
   "cell_type": "code",
   "execution_count": 9,
   "metadata": {},
   "outputs": [],
   "source": [
    "X_train=np.array(X_train)"
   ]
  },
  {
   "cell_type": "code",
   "execution_count": 10,
   "metadata": {},
   "outputs": [
    {
     "data": {
      "text/plain": [
       "(1000, 48, 48, 3)"
      ]
     },
     "execution_count": 10,
     "metadata": {},
     "output_type": "execute_result"
    }
   ],
   "source": [
    "X_train.shape"
   ]
  },
  {
   "cell_type": "code",
   "execution_count": 10,
   "metadata": {},
   "outputs": [],
   "source": [
    "X_train = np.concatenate([arr[np.newaxis] for arr in X_train]).astype('float32')\n",
    "X_test = np.concatenate([arr[np.newaxis] for arr in X_test]).astype('float32')"
   ]
  },
  {
   "cell_type": "code",
   "execution_count": 11,
   "metadata": {},
   "outputs": [
    {
     "data": {
      "text/plain": [
       "(1000, 48, 48, 3)"
      ]
     },
     "execution_count": 11,
     "metadata": {},
     "output_type": "execute_result"
    }
   ],
   "source": [
    "X_train.shape"
   ]
  },
  {
   "cell_type": "code",
   "execution_count": 12,
   "metadata": {},
   "outputs": [
    {
     "data": {
      "text/plain": [
       "(1000, 48, 48, 3)"
      ]
     },
     "execution_count": 12,
     "metadata": {},
     "output_type": "execute_result"
    }
   ],
   "source": [
    "X_test.shape"
   ]
  },
  {
   "cell_type": "code",
   "execution_count": 13,
   "metadata": {},
   "outputs": [
    {
     "data": {
      "image/png": "[encoded data removed]",
      "text/plain": [
       "<matplotlib.figure.Figure at 0x7f8530253e80>"
      ]
     },
     "metadata": {},
     "output_type": "display_data"
    }
   ],
   "source": [
    "#部分显示图片\n",
    "n = 10 # how many digits we will display\n",
    "plt.figure(figsize=(15, 15))\n",
    "for i in range(n):\n",
    "    # display original\n",
    "    #ax = plt.subplot(2, n, i + 1)\n",
    "    ax=plt.subplot(1, 10, i+1)\n",
    "    plt.imshow(X_train[i])\n",
    "    plt.gray()\n",
    "    ax.get_xaxis().set_visible(False)\n",
    "    ax.get_yaxis().set_visible(False)"
   ]
  },
  {
   "cell_type": "code",
   "execution_count": 14,
   "metadata": {},
   "outputs": [
    {
     "data": {
      "image/png": "[encoded data removed]",
      "text/plain": [
       "<matplotlib.figure.Figure at 0x7f8536dc5198>"
      ]
     },
     "metadata": {},
     "output_type": "display_data"
    }
   ],
   "source": [
    "#部分显示图片\n",
    "n = 10 # how many digits we will display\n",
    "plt.figure(figsize=(15, 15))\n",
    "for i in range(n):\n",
    "    # display original\n",
    "    #ax = plt.subplot(2, n, i + 1)\n",
    "    ax=plt.subplot(1, 10, i+1)\n",
    "    plt.imshow(X_test[i])\n",
    "    plt.gray()\n",
    "    ax.get_xaxis().set_visible(False)\n",
    "    ax.get_yaxis().set_visible(False)"
   ]
  },
  {
   "cell_type": "code",
   "execution_count": 15,
   "metadata": {},
   "outputs": [],
   "source": [
    "from keras.utils import to_categorical\n",
    "y_train = to_categorical(y_train_labelled)\n",
    "y_test = to_categorical(y_test_labelled)"
   ]
  },
  {
   "cell_type": "code",
   "execution_count": 16,
   "metadata": {},
   "outputs": [
    {
     "data": {
      "text/plain": [
       "array([[1., 0.],\n",
       "       [0., 1.],\n",
       "       [1., 0.],\n",
       "       [0., 1.],\n",
       "       [1., 0.],\n",
       "       [0., 1.],\n",
       "       [1., 0.],\n",
       "       [0., 1.],\n",
       "       [1., 0.],\n",
       "       [0., 1.]], dtype=float32)"
      ]
     },
     "execution_count": 16,
     "metadata": {},
     "output_type": "execute_result"
    }
   ],
   "source": [
    "y_train[:10]"
   ]
  },
  {
   "cell_type": "code",
   "execution_count": 17,
   "metadata": {},
   "outputs": [
    {
     "data": {
      "text/plain": [
       "array([[1., 0.],\n",
       "       [0., 1.],\n",
       "       [1., 0.],\n",
       "       [0., 1.],\n",
       "       [1., 0.],\n",
       "       [0., 1.],\n",
       "       [1., 0.],\n",
       "       [0., 1.],\n",
       "       [1., 0.],\n",
       "       [0., 1.]], dtype=float32)"
      ]
     },
     "execution_count": 17,
     "metadata": {},
     "output_type": "execute_result"
    }
   ],
   "source": [
    "y_test[:10]"
   ]
  },
  {
   "cell_type": "code",
   "execution_count": 18,
   "metadata": {},
   "outputs": [
    {
     "data": {
      "text/plain": [
       "(1000, 2)"
      ]
     },
     "execution_count": 18,
     "metadata": {},
     "output_type": "execute_result"
    }
   ],
   "source": [
    "y_train.shape"
   ]
  },
  {
   "cell_type": "code",
   "execution_count": 19,
   "metadata": {},
   "outputs": [
    {
     "name": "stderr",
     "output_type": "stream",
     "text": [
      "/usr/local/lib/python3.5/dist-packages/ipykernel_launcher.py:7: UserWarning: Update your `Model` call to the Keras 2 API: `Model(inputs=Tensor(\"in..., outputs=Tensor(\"de...)`\n",
      "  import sys\n"
     ]
    }
   ],
   "source": [
    "vgg16_model = VGG16(weights = 'imagenet', include_top = False)\n",
    "x = vgg16_model.output\n",
    "x = GlobalAveragePooling2D()(x)\n",
    "x = Dense(128, activation='relu')(x)\n",
    "x = Dense(128, activation='relu')(x)\n",
    "predictions = Dense(2, activation = 'softmax')(x)\n",
    "model = Model(input = vgg16_model.input, output = predictions)"
   ]
  },
  {
   "cell_type": "code",
   "execution_count": 20,
   "metadata": {},
   "outputs": [
    {
     "name": "stdout",
     "output_type": "stream",
     "text": [
      "_________________________________________________________________\n",
      "Layer (type)                 Output Shape              Param #   \n",
      "=================================================================\n",
      "input_1 (InputLayer)         (None, None, None, 3)     0         \n",
      "_________________________________________________________________\n",
      "block1_conv1 (Conv2D)        (None, None, None, 64)    1792      \n",
      "_________________________________________________________________\n",
      "block1_conv2 (Conv2D)        (None, None, None, 64)    36928     \n",
      "_________________________________________________________________\n",
      "block1_pool (MaxPooling2D)   (None, None, None, 64)    0         \n",
      "_________________________________________________________________\n",
      "block2_conv1 (Conv2D)        (None, None, None, 128)   73856     \n",
      "_________________________________________________________________\n",
      "block2_conv2 (Conv2D)        (None, None, None, 128)   147584    \n",
      "_________________________________________________________________\n",
      "block2_pool (MaxPooling2D)   (None, None, None, 128)   0         \n",
      "_________________________________________________________________\n",
      "block3_conv1 (Conv2D)        (None, None, None, 256)   295168    \n",
      "_________________________________________________________________\n",
      "block3_conv2 (Conv2D)        (None, None, None, 256)   590080    \n",
      "_________________________________________________________________\n",
      "block3_conv3 (Conv2D)        (None, None, None, 256)   590080    \n",
      "_________________________________________________________________\n",
      "block3_pool (MaxPooling2D)   (None, None, None, 256)   0         \n",
      "_________________________________________________________________\n",
      "block4_conv1 (Conv2D)        (None, None, None, 512)   1180160   \n",
      "_________________________________________________________________\n",
      "block4_conv2 (Conv2D)        (None, None, None, 512)   2359808   \n",
      "_________________________________________________________________\n",
      "block4_conv3 (Conv2D)        (None, None, None, 512)   2359808   \n",
      "_________________________________________________________________\n",
      "block4_pool (MaxPooling2D)   (None, None, None, 512)   0         \n",
      "_________________________________________________________________\n",
      "block5_conv1 (Conv2D)        (None, None, None, 512)   2359808   \n",
      "_________________________________________________________________\n",
      "block5_conv2 (Conv2D)        (None, None, None, 512)   2359808   \n",
      "_________________________________________________________________\n",
      "block5_conv3 (Conv2D)        (None, None, None, 512)   2359808   \n",
      "_________________________________________________________________\n",
      "block5_pool (MaxPooling2D)   (None, None, None, 512)   0         \n",
      "_________________________________________________________________\n",
      "global_average_pooling2d_1 ( (None, 512)               0         \n",
      "_________________________________________________________________\n",
      "dense_1 (Dense)              (None, 128)               65664     \n",
      "_________________________________________________________________\n",
      "dense_2 (Dense)              (None, 128)               16512     \n",
      "_________________________________________________________________\n",
      "dense_3 (Dense)              (None, 2)                 258       \n",
      "=================================================================\n",
      "Total params: 14,797,122\n",
      "Trainable params: 14,797,122\n",
      "Non-trainable params: 0\n",
      "_________________________________________________________________\n"
     ]
    }
   ],
   "source": [
    "model.summary( )"
   ]
  },
  {
   "cell_type": "code",
   "execution_count": 21,
   "metadata": {},
   "outputs": [],
   "source": [
    "# freeze all layers of the pre-trained model\n",
    "for layer in vgg16_model.layers:\n",
    "    layer.trainable = False"
   ]
  },
  {
   "cell_type": "code",
   "execution_count": 22,
   "metadata": {},
   "outputs": [
    {
     "name": "stdout",
     "output_type": "stream",
     "text": [
      "_________________________________________________________________\n",
      "Layer (type)                 Output Shape              Param #   \n",
      "=================================================================\n",
      "input_1 (InputLayer)         (None, None, None, 3)     0         \n",
      "_________________________________________________________________\n",
      "block1_conv1 (Conv2D)        (None, None, None, 64)    1792      \n",
      "_________________________________________________________________\n",
      "block1_conv2 (Conv2D)        (None, None, None, 64)    36928     \n",
      "_________________________________________________________________\n",
      "block1_pool (MaxPooling2D)   (None, None, None, 64)    0         \n",
      "_________________________________________________________________\n",
      "block2_conv1 (Conv2D)        (None, None, None, 128)   73856     \n",
      "_________________________________________________________________\n",
      "block2_conv2 (Conv2D)        (None, None, None, 128)   147584    \n",
      "_________________________________________________________________\n",
      "block2_pool (MaxPooling2D)   (None, None, None, 128)   0         \n",
      "_________________________________________________________________\n",
      "block3_conv1 (Conv2D)        (None, None, None, 256)   295168    \n",
      "_________________________________________________________________\n",
      "block3_conv2 (Conv2D)        (None, None, None, 256)   590080    \n",
      "_________________________________________________________________\n",
      "block3_conv3 (Conv2D)        (None, None, None, 256)   590080    \n",
      "_________________________________________________________________\n",
      "block3_pool (MaxPooling2D)   (None, None, None, 256)   0         \n",
      "_________________________________________________________________\n",
      "block4_conv1 (Conv2D)        (None, None, None, 512)   1180160   \n",
      "_________________________________________________________________\n",
      "block4_conv2 (Conv2D)        (None, None, None, 512)   2359808   \n",
      "_________________________________________________________________\n",
      "block4_conv3 (Conv2D)        (None, None, None, 512)   2359808   \n",
      "_________________________________________________________________\n",
      "block4_pool (MaxPooling2D)   (None, None, None, 512)   0         \n",
      "_________________________________________________________________\n",
      "block5_conv1 (Conv2D)        (None, None, None, 512)   2359808   \n",
      "_________________________________________________________________\n",
      "block5_conv2 (Conv2D)        (None, None, None, 512)   2359808   \n",
      "_________________________________________________________________\n",
      "block5_conv3 (Conv2D)        (None, None, None, 512)   2359808   \n",
      "_________________________________________________________________\n",
      "block5_pool (MaxPooling2D)   (None, None, None, 512)   0         \n",
      "_________________________________________________________________\n",
      "global_average_pooling2d_1 ( (None, 512)               0         \n",
      "_________________________________________________________________\n",
      "dense_1 (Dense)              (None, 128)               65664     \n",
      "_________________________________________________________________\n",
      "dense_2 (Dense)              (None, 128)               16512     \n",
      "_________________________________________________________________\n",
      "dense_3 (Dense)              (None, 2)                 258       \n",
      "=================================================================\n",
      "Total params: 14,797,122\n",
      "Trainable params: 82,434\n",
      "Non-trainable params: 14,714,688\n",
      "_________________________________________________________________\n"
     ]
    }
   ],
   "source": [
    "model.summary( )"
   ]
  },
  {
   "cell_type": "code",
   "execution_count": 23,
   "metadata": {},
   "outputs": [],
   "source": [
    "# compile the new model using a RMSProp optimizer\n",
    "model.compile(optimizer = 'rmsprop',\n",
    "    loss = 'categorical_crossentropy',\n",
    "    metrics = ['accuracy'])"
   ]
  },
  {
   "cell_type": "code",
   "execution_count": 24,
   "metadata": {},
   "outputs": [
    {
     "name": "stdout",
     "output_type": "stream",
     "text": [
      "Epoch 1/32\n",
      "1000/1000 [==============================] - 1s 1ms/step - loss: 0.7218 - acc: 0.5210\n",
      "Epoch 2/32\n",
      "1000/1000 [==============================] - 0s 298us/step - loss: 0.6650 - acc: 0.5720\n",
      "Epoch 3/32\n",
      "1000/1000 [==============================] - 0s 299us/step - loss: 0.6475 - acc: 0.6050\n",
      "Epoch 4/32\n",
      "1000/1000 [==============================] - 0s 298us/step - loss: 0.6329 - acc: 0.6500\n",
      "Epoch 5/32\n",
      "1000/1000 [==============================] - 0s 298us/step - loss: 0.6157 - acc: 0.6350\n",
      "Epoch 6/32\n",
      "1000/1000 [==============================] - 0s 298us/step - loss: 0.6030 - acc: 0.6510\n",
      "Epoch 7/32\n",
      "1000/1000 [==============================] - 0s 297us/step - loss: 0.5783 - acc: 0.6770\n",
      "Epoch 8/32\n",
      "1000/1000 [==============================] - 0s 298us/step - loss: 0.5873 - acc: 0.6690\n",
      "Epoch 9/32\n",
      "1000/1000 [==============================] - 0s 298us/step - loss: 0.5639 - acc: 0.6660\n",
      "Epoch 10/32\n",
      "1000/1000 [==============================] - 0s 298us/step - loss: 0.5532 - acc: 0.6950\n",
      "Epoch 11/32\n",
      "1000/1000 [==============================] - 0s 298us/step - loss: 0.5385 - acc: 0.7060\n",
      "Epoch 12/32\n",
      "1000/1000 [==============================] - 0s 300us/step - loss: 0.5444 - acc: 0.7040\n",
      "Epoch 13/32\n",
      "1000/1000 [==============================] - 0s 298us/step - loss: 0.5174 - acc: 0.7290\n",
      "Epoch 14/32\n",
      "1000/1000 [==============================] - 0s 298us/step - loss: 0.5153 - acc: 0.7310\n",
      "Epoch 15/32\n",
      "1000/1000 [==============================] - 0s 298us/step - loss: 0.5083 - acc: 0.7210\n",
      "Epoch 16/32\n",
      "1000/1000 [==============================] - 0s 298us/step - loss: 0.5249 - acc: 0.7250\n",
      "Epoch 17/32\n",
      "1000/1000 [==============================] - 0s 298us/step - loss: 0.4792 - acc: 0.7440\n",
      "Epoch 18/32\n",
      "1000/1000 [==============================] - 0s 298us/step - loss: 0.4835 - acc: 0.7340\n",
      "Epoch 19/32\n",
      "1000/1000 [==============================] - 0s 298us/step - loss: 0.4681 - acc: 0.7670\n",
      "Epoch 20/32\n",
      "1000/1000 [==============================] - 0s 297us/step - loss: 0.4710 - acc: 0.7450\n",
      "Epoch 21/32\n",
      "1000/1000 [==============================] - 0s 297us/step - loss: 0.4548 - acc: 0.7540\n",
      "Epoch 22/32\n",
      "1000/1000 [==============================] - 0s 298us/step - loss: 0.4673 - acc: 0.7590\n",
      "Epoch 23/32\n",
      "1000/1000 [==============================] - 0s 297us/step - loss: 0.4520 - acc: 0.7590\n",
      "Epoch 24/32\n",
      "1000/1000 [==============================] - 0s 298us/step - loss: 0.4537 - acc: 0.7610\n",
      "Epoch 25/32\n",
      "1000/1000 [==============================] - 0s 298us/step - loss: 0.4313 - acc: 0.7800\n",
      "Epoch 26/32\n",
      "1000/1000 [==============================] - 0s 297us/step - loss: 0.4420 - acc: 0.7580\n",
      "Epoch 27/32\n",
      "1000/1000 [==============================] - 0s 297us/step - loss: 0.4144 - acc: 0.7900\n",
      "Epoch 28/32\n",
      "1000/1000 [==============================] - 0s 297us/step - loss: 0.4070 - acc: 0.7900\n",
      "Epoch 29/32\n",
      "1000/1000 [==============================] - 0s 298us/step - loss: 0.4098 - acc: 0.7900\n",
      "Epoch 30/32\n",
      "1000/1000 [==============================] - 0s 298us/step - loss: 0.3893 - acc: 0.8160\n",
      "Epoch 31/32\n",
      "1000/1000 [==============================] - 0s 298us/step - loss: 0.4012 - acc: 0.7920\n",
      "Epoch 32/32\n",
      "1000/1000 [==============================] - 0s 298us/step - loss: 0.3906 - acc: 0.8070\n"
     ]
    }
   ],
   "source": [
    "# fit the model, log the results and the training time\n",
    "transfer_learning_history = model.fit(\n",
    "    X_train,y_train,\n",
    "    epochs =32,\n",
    "    batch_size=32)"
   ]
  },
  {
   "cell_type": "code",
   "execution_count": 25,
   "metadata": {},
   "outputs": [
    {
     "name": "stdout",
     "output_type": "stream",
     "text": [
      "Test loss: 0.6192557480335236\n",
      "Test accuracy: 0.669\n"
     ]
    }
   ],
   "source": [
    "test_eval = model.evaluate(X_test, y_test, verbose=0)\n",
    "print('Test loss:', test_eval[0])\n",
    "print('Test accuracy:', test_eval[1])"
   ]
  },
  {
   "cell_type": "code",
   "execution_count": null,
   "metadata": {},
   "outputs": [],
   "source": []
  }
 ],
 "metadata": {
  "kernelspec": {
   "display_name": "Python 3",
   "language": "python",
   "name": "python3"
  },
  "language_info": {
   "codemirror_mode": {
    "name": "ipython",
    "version": 3
   },
   "file_extension": ".py",
   "mimetype": "text/x-python",
   "name": "python",
   "nbconvert_exporter": "python",
   "pygments_lexer": "ipython3",
   "version": "3.5.6"
  }
 },
 "nbformat": 4,
 "nbformat_minor": 2
}
